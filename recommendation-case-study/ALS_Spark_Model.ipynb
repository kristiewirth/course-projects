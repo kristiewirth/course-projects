{
 "cells": [
  {
   "cell_type": "code",
   "execution_count": 2,
   "metadata": {
    "collapsed": true
   },
   "outputs": [],
   "source": [
    "import pyspark\n",
    "from pyspark.sql.types import *\n",
    "import pyspark.ml.recommendation\n",
    "from pyspark.ml.recommendation import *\n",
    "import pyspark.ml.evaluation\n",
    "from pyspark.ml.evaluation import *\n",
    "import numpy as np\n",
    "from pyspark.ml.evaluation import RegressionEvaluator"
   ]
  },
  {
   "cell_type": "code",
   "execution_count": 3,
   "metadata": {},
   "outputs": [
    {
     "data": {
      "text/plain": [
       "(<SparkContext master=local[4] appName=PySparkShell>,\n",
       " <pyspark.sql.session.SparkSession at 0x110a38dd8>)"
      ]
     },
     "execution_count": 3,
     "metadata": {},
     "output_type": "execute_result"
    }
   ],
   "source": [
    "sc, spark"
   ]
  },
  {
   "cell_type": "code",
   "execution_count": 4,
   "metadata": {},
   "outputs": [
    {
     "name": "stdout",
     "output_type": "stream",
     "text": [
      "root\n",
      " |-- userId: integer (nullable = true)\n",
      " |-- movieId: integer (nullable = true)\n",
      " |-- rating: float (nullable = true)\n",
      " |-- timestamp: integer (nullable = true)\n",
      "\n"
     ]
    }
   ],
   "source": [
    "ratings_schema = StructType( [\n",
    "    StructField('userId', IntegerType(), True),\n",
    "    StructField('movieId', IntegerType(), True),\n",
    "    StructField('rating', FloatType(), True),\n",
    "    StructField('timestamp', IntegerType(), True)\n",
    "        ])\n",
    "\n",
    "raw_ratings_df = spark.read.csv(\"./data/movies/ratings.csv\",\n",
    "                               schema=ratings_schema)\n",
    "\n",
    "raw_ratings_df.printSchema()"
   ]
  },
  {
   "cell_type": "code",
   "execution_count": 5,
   "metadata": {},
   "outputs": [
    {
     "name": "stdout",
     "output_type": "stream",
     "text": [
      "root\n",
      " |-- movieId: integer (nullable = true)\n",
      " |-- title: string (nullable = true)\n",
      " |-- genre: string (nullable = true)\n",
      "\n"
     ]
    }
   ],
   "source": [
    "movies_schema = StructType( [\n",
    "    StructField('movieId', IntegerType(), True),\n",
    "    StructField('title', StringType(), True),\n",
    "    StructField('genre', StringType(), True)\n",
    "        ])\n",
    "\n",
    "raw_movies_df = spark.read.csv(\"./data/movies/movies.csv\",\n",
    "                               schema=movies_schema)\n",
    "\n",
    "raw_movies_df.printSchema()"
   ]
  },
  {
   "cell_type": "code",
   "execution_count": 6,
   "metadata": {
    "collapsed": true
   },
   "outputs": [],
   "source": [
    "raw_movies_df.registerTempTable('movies')\n",
    "raw_ratings_df.registerTempTable('ratings')"
   ]
  },
  {
   "cell_type": "markdown",
   "metadata": {},
   "source": [
    "# MVP For ALS on Rating Data Only"
   ]
  },
  {
   "cell_type": "code",
   "execution_count": 7,
   "metadata": {},
   "outputs": [
    {
     "name": "stdout",
     "output_type": "stream",
     "text": [
      "+------+-------+----------+------+\n",
      "|userId|movieId| timestamp|rating|\n",
      "+------+-------+----------+------+\n",
      "|     1|     31|1260759144|   2.5|\n",
      "|     1|   1029|1260759179|   3.0|\n",
      "|     1|   1061|1260759182|   3.0|\n",
      "|     1|   1129|1260759185|   2.0|\n",
      "|     1|   1172|1260759205|   4.0|\n",
      "|     1|   1263|1260759151|   2.0|\n",
      "|     1|   1287|1260759187|   2.0|\n",
      "|     1|   1293|1260759148|   2.0|\n",
      "|     1|   1339|1260759125|   3.5|\n",
      "|     1|   1343|1260759131|   2.0|\n",
      "|     1|   1371|1260759135|   2.5|\n",
      "|     1|   1405|1260759203|   1.0|\n",
      "|     1|   1953|1260759191|   4.0|\n",
      "|     1|   2105|1260759139|   4.0|\n",
      "|     1|   2150|1260759194|   3.0|\n",
      "|     1|   2193|1260759198|   2.0|\n",
      "|     1|   2294|1260759108|   2.0|\n",
      "|     1|   2455|1260759113|   2.5|\n",
      "|     1|   2968|1260759200|   1.0|\n",
      "|     1|   3671|1260759117|   3.0|\n",
      "+------+-------+----------+------+\n",
      "only showing top 20 rows\n",
      "\n"
     ]
    }
   ],
   "source": [
    "train_base = spark.sql(\"\"\"\n",
    "SELECT userId, \n",
    "movieId, timestamp,\n",
    "CASE WHEN rating is null then 0.0 ELSE rating END as rating\n",
    "FROM ratings\n",
    "WHERE userId is not null\n",
    "AND timestamp < 1296192000\n",
    "\"\"\")\n",
    "\n",
    "train_base.show()"
   ]
  },
  {
   "cell_type": "code",
   "execution_count": 8,
   "metadata": {},
   "outputs": [
    {
     "name": "stdout",
     "output_type": "stream",
     "text": [
      "+------+-------+----------+------+\n",
      "|userId|movieId| timestamp|rating|\n",
      "+------+-------+----------+------+\n",
      "|     3|     60|1298861675|   3.0|\n",
      "|     3|    110|1298922049|   4.0|\n",
      "|     3|    247|1298861637|   3.5|\n",
      "|     3|    267|1298861761|   3.0|\n",
      "|     3|    296|1298862418|   4.5|\n",
      "|     3|    318|1298862121|   5.0|\n",
      "|     3|    355|1298861589|   2.5|\n",
      "|     3|    356|1298862167|   5.0|\n",
      "|     3|    377|1298923242|   2.5|\n",
      "|     3|    527|1298862528|   3.0|\n",
      "|     3|    588|1298922100|   3.0|\n",
      "|     3|    592|1298923247|   3.0|\n",
      "|     3|    593|1298921840|   3.0|\n",
      "|     3|    595|1298923260|   2.0|\n",
      "|     3|    736|1298932787|   3.5|\n",
      "|     3|    778|1298863157|   4.0|\n",
      "|     3|    866|1298861687|   3.0|\n",
      "|     3|   1197|1298932770|   5.0|\n",
      "|     3|   1210|1298921795|   3.0|\n",
      "|     3|   1235|1298861628|   4.0|\n",
      "+------+-------+----------+------+\n",
      "only showing top 20 rows\n",
      "\n"
     ]
    }
   ],
   "source": [
    "test_base = spark.sql(\"\"\"\n",
    "SELECT userId, \n",
    "movieId, timestamp,\n",
    "CASE WHEN rating is null then 0.0 ELSE rating END as rating\n",
    "FROM ratings\n",
    "WHERE userId is not null\n",
    "AND timestamp >= 1296192000\n",
    "\"\"\")\n",
    "\n",
    "test_base.show()"
   ]
  },
  {
   "cell_type": "code",
   "execution_count": 9,
   "metadata": {
    "collapsed": true
   },
   "outputs": [],
   "source": [
    "als = ALS(rank=10, maxIter=5, seed=0, regParam=0.1, implicitPrefs=False,\n",
    "          userCol=\"userId\", itemCol=\"movieId\", ratingCol=\"rating\", nonnegative=True)\n",
    "model = als.fit(train_base)"
   ]
  },
  {
   "cell_type": "code",
   "execution_count": 10,
   "metadata": {
    "collapsed": true
   },
   "outputs": [],
   "source": [
    "predictions = model.transform(test_base).persist()\n",
    "predictions = predictions.na.drop()"
   ]
  },
  {
   "cell_type": "code",
   "execution_count": 11,
   "metadata": {
    "collapsed": true
   },
   "outputs": [],
   "source": [
    "predictions.registerTempTable(\"predictions\")"
   ]
  },
  {
   "cell_type": "code",
   "execution_count": 14,
   "metadata": {},
   "outputs": [
    {
     "name": "stdout",
     "output_type": "stream",
     "text": [
      "+------+-------+----------+------+----------+\n",
      "|userId|movieId| timestamp|rating|prediction|\n",
      "+------+-------+----------+------+----------+\n",
      "|    78|  79132|1327062958|   4.5| 5.2240825|\n",
      "|   480|  37731|1339455993|   1.5| 5.1346283|\n",
      "|   480|  79132|1339283594|   5.0| 5.0135756|\n",
      "|   480|   1680|1339455518|   3.0|   4.87072|\n",
      "|   380|  78499|1304471106|   4.0|  4.745358|\n",
      "|   480|  80463|1339455165|   4.5|  4.725688|\n",
      "|   426|   8132|1310375708|   4.0| 4.7219677|\n",
      "|   480|   1207|1339455039|   4.5| 4.7203236|\n",
      "|   480|  79702|1339285851|   3.0|  4.695591|\n",
      "|   480|  68954|1339285893|   2.5| 4.6603575|\n",
      "|   426|  53956|1320778912|   2.0|  4.609357|\n",
      "|    73|   7063|1411451412|   4.0| 4.6051664|\n",
      "|   480|    858|1339456454|   4.0|  4.601046|\n",
      "|   501|   1704|1307129555|   5.0|  4.591006|\n",
      "|   480|   1240|1339285265|   4.5|  4.581721|\n",
      "|   380|  69951|1330910373|   3.0| 4.5737853|\n",
      "|   480|  56782|1339455242|   3.5| 4.5698547|\n",
      "|   501|   1136|1309492528|   3.5| 4.5658817|\n",
      "|   480|  73017|1339284321|   5.0| 4.5596313|\n",
      "|    78|  33794|1327063058|   4.0|  4.559327|\n",
      "+------+-------+----------+------+----------+\n",
      "only showing top 20 rows\n",
      "\n"
     ]
    }
   ],
   "source": [
    "predictions_base = spark.sql(\"\"\"\n",
    "SELECT * FROM predictions\n",
    "WHERE NOT ISNAN(prediction)\n",
    "ORDER BY prediction DESC\n",
    "\"\"\").show()"
   ]
  },
  {
   "cell_type": "code",
   "execution_count": 15,
   "metadata": {},
   "outputs": [
    {
     "name": "stdout",
     "output_type": "stream",
     "text": [
      "Root-mean-square error = 0.8590750999735148\n"
     ]
    }
   ],
   "source": [
    "evaluator = RegressionEvaluator(metricName='rmse', labelCol='rating',\n",
    "                                predictionCol='prediction')\n",
    "rmse = evaluator.evaluate(predictions)\n",
    "print('Root-mean-square error = ' + str(rmse))"
   ]
  },
  {
   "cell_type": "markdown",
   "metadata": {},
   "source": [
    "# Using Dummy Variables for Genre"
   ]
  },
  {
   "cell_type": "code",
   "execution_count": 16,
   "metadata": {
    "collapsed": true
   },
   "outputs": [],
   "source": [
    "train_genre = spark.sql(\"\"\"\n",
    "SELECT DISTINCT userId, \n",
    "ratings.movieId,\n",
    "CASE WHEN rating is null then 0.0 ELSE rating END as rating,\n",
    "CASE WHEN genre like '%Drama%' then 1 else 0 END as drama,\n",
    "CASE WHEN genre like '%Comedy%' then 1 else 0 END as comedy,\n",
    "CASE WHEN genre like '%Romance%' then 1 else 0 END as romance,\n",
    "CASE WHEN genre like '%Action%' then 1 else 0 END as action,\n",
    "CASE WHEN genre like '%Crime%' then 1 else 0 END as crime,\n",
    "CASE WHEN genre like '%Mystery%' then 1 else 0 END as mystery,\n",
    "CASE WHEN genre like '%War%' then 1 else 0 END as war,\n",
    "CASE WHEN genre like '%West%' then 1 else 0 END as west,\n",
    "CASE WHEN genre like '%Horror%' then 1 else 0 END as horror,\n",
    "CASE WHEN genre like '%Thriller%' then 1 else 0 END as thriller,\n",
    "CASE WHEN genre like '%Adventure%' then 1 else 0 END as adventure,\n",
    "CASE WHEN genre like '%Documentary%' then 1 else 0 END as documentary,\n",
    "CASE WHEN genre like '%Child%' then 1 else 0 END as childrens,\n",
    "CASE WHEN genre like '%Animation%' then 1 else 0 END as animation,\n",
    "CASE WHEN genre like '%Sci%' then 1 else 0 END as sci_fi,\n",
    "CASE WHEN genre like '%Musical%' then 1 else 0 END as musical,\n",
    "CASE WHEN genre like '%Fantasy%' then 1 else 0 END as fantasy,\n",
    "CASE WHEN genre like '%Film-Noir%' then 1 else 0 END as film_noir,\n",
    "CASE WHEN genre like '%IMAX%' then 1 else 0 END as imax\n",
    "\n",
    "FROM ratings\n",
    "LEFT JOIN movies on ratings.movieID = movies.movieID\n",
    "WHERE userId is not null\n",
    "AND timestamp < 1296192000\n",
    "\"\"\")"
   ]
  },
  {
   "cell_type": "code",
   "execution_count": 17,
   "metadata": {
    "collapsed": true
   },
   "outputs": [],
   "source": [
    "test_genre = spark.sql(\"\"\"\n",
    "SELECT DISTINCT userId, \n",
    "ratings.movieId,\n",
    "CASE WHEN rating is null then 0.0 ELSE rating END as rating,\n",
    "CASE WHEN genre like '%Drama%' then 1 else 0 END as drama,\n",
    "CASE WHEN genre like '%Comedy%' then 1 else 0 END as comedy,\n",
    "CASE WHEN genre like '%Romance%' then 1 else 0 END as romance,\n",
    "CASE WHEN genre like '%Action%' then 1 else 0 END as action,\n",
    "CASE WHEN genre like '%Crime%' then 1 else 0 END as crime,\n",
    "CASE WHEN genre like '%Mystery%' then 1 else 0 END as mystery,\n",
    "CASE WHEN genre like '%War%' then 1 else 0 END as war,\n",
    "CASE WHEN genre like '%West%' then 1 else 0 END as west,\n",
    "CASE WHEN genre like '%Horror%' then 1 else 0 END as horror,\n",
    "CASE WHEN genre like '%Thriller%' then 1 else 0 END as thriller,\n",
    "CASE WHEN genre like '%Adventure%' then 1 else 0 END as adventure,\n",
    "CASE WHEN genre like '%Documentary%' then 1 else 0 END as documentary,\n",
    "CASE WHEN genre like '%Child%' then 1 else 0 END as childrens,\n",
    "CASE WHEN genre like '%Animation%' then 1 else 0 END as animation,\n",
    "CASE WHEN genre like '%Sci%' then 1 else 0 END as sci_fi,\n",
    "CASE WHEN genre like '%Musical%' then 1 else 0 END as musical,\n",
    "CASE WHEN genre like '%Fantasy%' then 1 else 0 END as fantasy,\n",
    "CASE WHEN genre like '%Film-Noir%' then 1 else 0 END as film_noir,\n",
    "CASE WHEN genre like '%IMAX%' then 1 else 0 END as imax\n",
    "\n",
    "FROM ratings\n",
    "LEFT JOIN movies on ratings.movieID = movies.movieID\n",
    "WHERE userId is not null\n",
    "AND timestamp >= 1296192000\n",
    "\"\"\")"
   ]
  },
  {
   "cell_type": "code",
   "execution_count": 18,
   "metadata": {
    "collapsed": true
   },
   "outputs": [],
   "source": [
    "als_genre = ALS(rank=10, maxIter=5, seed=0, regParam=0.1, implicitPrefs=False,\n",
    "          userCol=\"userId\", itemCol=\"movieId\", ratingCol=\"rating\", nonnegative=True)\n",
    "model = als_genre.fit(train_genre)"
   ]
  },
  {
   "cell_type": "code",
   "execution_count": 19,
   "metadata": {
    "collapsed": true
   },
   "outputs": [],
   "source": [
    "predictions_genre = model.transform(test_genre).persist()\n",
    "predictions_genre = predictions.na.drop()"
   ]
  },
  {
   "cell_type": "code",
   "execution_count": 20,
   "metadata": {},
   "outputs": [
    {
     "name": "stdout",
     "output_type": "stream",
     "text": [
      "Root-mean-square error = 0.8590750999735149\n"
     ]
    }
   ],
   "source": [
    "evaluator = RegressionEvaluator(metricName='rmse', labelCol='rating',\n",
    "                                predictionCol='prediction')\n",
    "rmse = evaluator.evaluate(predictions_genre)\n",
    "print('Root-mean-square error = ' + str(rmse))"
   ]
  },
  {
   "cell_type": "markdown",
   "metadata": {},
   "source": [
    "# Testing Hyperparameters on the OG ALS Model"
   ]
  },
  {
   "cell_type": "code",
   "execution_count": 54,
   "metadata": {
    "collapsed": true
   },
   "outputs": [],
   "source": [
    "als_playground = ALS(rank=10, maxIter=5, seed=0, regParam=.2, implicitPrefs=False,\n",
    "          userCol=\"userId\", itemCol=\"movieId\", ratingCol=\"rating\", nonnegative=True)\n",
    "model = als_playground.fit(train_base)"
   ]
  },
  {
   "cell_type": "code",
   "execution_count": 55,
   "metadata": {
    "collapsed": true
   },
   "outputs": [],
   "source": [
    "predictions_playground = model.transform(test_base).persist()\n",
    "predictions_playground = predictions_playground.na.drop()"
   ]
  },
  {
   "cell_type": "code",
   "execution_count": 56,
   "metadata": {},
   "outputs": [
    {
     "name": "stdout",
     "output_type": "stream",
     "text": [
      "Root-mean-square error = 0.8538004128931168\n"
     ]
    }
   ],
   "source": [
    "evaluator = RegressionEvaluator(metricName='rmse', labelCol='rating',\n",
    "                                predictionCol='prediction')\n",
    "rmse = evaluator.evaluate(predictions_playground)\n",
    "print('Root-mean-square error = ' + str(rmse))"
   ]
  },
  {
   "cell_type": "code",
   "execution_count": 57,
   "metadata": {
    "collapsed": true
   },
   "outputs": [],
   "source": [
    "userRecs = model.recommendForAllUsers(10)"
   ]
  },
  {
   "cell_type": "code",
   "execution_count": 59,
   "metadata": {},
   "outputs": [
    {
     "name": "stdout",
     "output_type": "stream",
     "text": [
      "+------+--------------------+\n",
      "|userId|     recommendations|\n",
      "+------+--------------------+\n",
      "|   471|[[4302,5.173933],...|\n",
      "|   463|[[4302,5.0394797]...|\n",
      "|   496|[[5765,5.811225],...|\n",
      "|   148|[[4731,5.581875],...|\n",
      "|   540|[[5765,5.725072],...|\n",
      "|   392|[[8208,4.56997], ...|\n",
      "|   243|[[5071,5.039308],...|\n",
      "|   623|[[5071,5.5812473]...|\n",
      "|    31|[[5071,5.5674973]...|\n",
      "|   516|[[5765,5.1803555]...|\n",
      "|   580|[[4731,4.8906956]...|\n",
      "|   451|[[8208,5.080391],...|\n",
      "|    85|[[5765,4.967734],...|\n",
      "|   137|[[5765,5.197393],...|\n",
      "|    65|[[5071,5.633008],...|\n",
      "|    53|[[31116,4.228965]...|\n",
      "|   255|[[4731,5.6881833]...|\n",
      "|   588|[[4302,5.2902207]...|\n",
      "|   472|[[5071,5.499962],...|\n",
      "|   322|[[4731,5.2431684]...|\n",
      "+------+--------------------+\n",
      "only showing top 20 rows\n",
      "\n"
     ]
    }
   ],
   "source": [
    "userRecs.show()"
   ]
  },
  {
   "cell_type": "code",
   "execution_count": null,
   "metadata": {
    "collapsed": true
   },
   "outputs": [],
   "source": []
  }
 ],
 "metadata": {
  "kernelspec": {
   "display_name": "Python 2",
   "language": "python",
   "name": "python2"
  },
  "language_info": {
   "codemirror_mode": {
    "name": "ipython",
    "version": 2
   },
   "file_extension": ".py",
   "mimetype": "text/x-python",
   "name": "python",
   "nbconvert_exporter": "python",
   "pygments_lexer": "ipython2",
   "version": "2.7.13"
  }
 },
 "nbformat": 4,
 "nbformat_minor": 2
}
